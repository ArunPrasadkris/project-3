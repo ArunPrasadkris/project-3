{
  "cells": [
    {
      "cell_type": "markdown",
      "id": "f8df3694-8b54-4d5d-9a67-3b484bbf0418",
      "metadata": {
        "id": "f8df3694-8b54-4d5d-9a67-3b484bbf0418"
      },
      "source": [
        "## Project 3\n",
        "This will analyze route data in supply chain with ML, and find the optimal route"
      ]
    },
    {
      "cell_type": "code",
      "execution_count": 48,
      "id": "fd19e549-c164-4a23-afb0-a3a7271047eb",
      "metadata": {
        "id": "fd19e549-c164-4a23-afb0-a3a7271047eb"
      },
      "outputs": [],
      "source": [
        "# Import libraries\n",
        "import pandas as pd\n",
        "import matplotlib.pyplot as plt\n",
        "import folium\n",
        "import matplotlib.pyplot as plt\n",
        "import contextily as ctx\n",
        "from sklearn.ensemble import RandomForestRegressor\n",
        "from sklearn.model_selection import train_test_split\n",
        "from sklearn.metrics import mean_squared_error\n",
        "import networkx as nx\n",
        "import osmnx as ox\n",
        "import numpy as np"
      ]
    },
    {
      "cell_type": "code",
      "source": [
        "!pip install osmnx"
      ],
      "metadata": {
        "colab": {
          "base_uri": "https://localhost:8080/"
        },
        "id": "BdrzXqidNeXP",
        "outputId": "d5fbfbbd-dd18-4f2d-bd60-ec5e64d5c27e"
      },
      "id": "BdrzXqidNeXP",
      "execution_count": 49,
      "outputs": [
        {
          "output_type": "stream",
          "name": "stdout",
          "text": [
            "Looking in indexes: https://pypi.org/simple, https://us-python.pkg.dev/colab-wheels/public/simple/\n",
            "Requirement already satisfied: osmnx in /usr/local/lib/python3.10/dist-packages (1.3.0)\n",
            "Requirement already satisfied: geopandas>=0.12 in /usr/local/lib/python3.10/dist-packages (from osmnx) (0.13.0)\n",
            "Requirement already satisfied: matplotlib>=3.5 in /usr/local/lib/python3.10/dist-packages (from osmnx) (3.7.1)\n",
            "Requirement already satisfied: networkx>=2.8 in /usr/local/lib/python3.10/dist-packages (from osmnx) (3.1)\n",
            "Requirement already satisfied: numpy>=1.23 in /usr/local/lib/python3.10/dist-packages (from osmnx) (1.24.3)\n",
            "Requirement already satisfied: pandas>=1.5 in /usr/local/lib/python3.10/dist-packages (from osmnx) (1.5.3)\n",
            "Requirement already satisfied: pyproj>=3.4 in /usr/local/lib/python3.10/dist-packages (from osmnx) (3.5.0)\n",
            "Requirement already satisfied: python-dateutil>=2.8 in /usr/local/lib/python3.10/dist-packages (from osmnx) (2.8.2)\n",
            "Requirement already satisfied: requests>=2.28 in /usr/local/lib/python3.10/dist-packages (from osmnx) (2.30.0)\n",
            "Requirement already satisfied: Shapely>=2.0 in /usr/local/lib/python3.10/dist-packages (from osmnx) (2.0.1)\n",
            "Requirement already satisfied: fiona>=1.8.19 in /usr/local/lib/python3.10/dist-packages (from geopandas>=0.12->osmnx) (1.9.3)\n",
            "Requirement already satisfied: packaging in /usr/local/lib/python3.10/dist-packages (from geopandas>=0.12->osmnx) (23.1)\n",
            "Requirement already satisfied: contourpy>=1.0.1 in /usr/local/lib/python3.10/dist-packages (from matplotlib>=3.5->osmnx) (1.0.7)\n",
            "Requirement already satisfied: cycler>=0.10 in /usr/local/lib/python3.10/dist-packages (from matplotlib>=3.5->osmnx) (0.11.0)\n",
            "Requirement already satisfied: fonttools>=4.22.0 in /usr/local/lib/python3.10/dist-packages (from matplotlib>=3.5->osmnx) (4.39.3)\n",
            "Requirement already satisfied: kiwisolver>=1.0.1 in /usr/local/lib/python3.10/dist-packages (from matplotlib>=3.5->osmnx) (1.4.4)\n",
            "Requirement already satisfied: pillow>=6.2.0 in /usr/local/lib/python3.10/dist-packages (from matplotlib>=3.5->osmnx) (8.4.0)\n",
            "Requirement already satisfied: pyparsing>=2.3.1 in /usr/local/lib/python3.10/dist-packages (from matplotlib>=3.5->osmnx) (3.0.9)\n",
            "Requirement already satisfied: pytz>=2020.1 in /usr/local/lib/python3.10/dist-packages (from pandas>=1.5->osmnx) (2022.7.1)\n",
            "Requirement already satisfied: certifi in /usr/local/lib/python3.10/dist-packages (from pyproj>=3.4->osmnx) (2022.12.7)\n",
            "Requirement already satisfied: six>=1.5 in /usr/local/lib/python3.10/dist-packages (from python-dateutil>=2.8->osmnx) (1.16.0)\n",
            "Requirement already satisfied: charset-normalizer<4,>=2 in /usr/local/lib/python3.10/dist-packages (from requests>=2.28->osmnx) (2.0.12)\n",
            "Requirement already satisfied: idna<4,>=2.5 in /usr/local/lib/python3.10/dist-packages (from requests>=2.28->osmnx) (3.4)\n",
            "Requirement already satisfied: urllib3<3,>=1.21.1 in /usr/local/lib/python3.10/dist-packages (from requests>=2.28->osmnx) (1.26.15)\n",
            "Requirement already satisfied: attrs>=19.2.0 in /usr/local/lib/python3.10/dist-packages (from fiona>=1.8.19->geopandas>=0.12->osmnx) (23.1.0)\n",
            "Requirement already satisfied: click~=8.0 in /usr/local/lib/python3.10/dist-packages (from fiona>=1.8.19->geopandas>=0.12->osmnx) (8.1.3)\n",
            "Requirement already satisfied: click-plugins>=1.0 in /usr/local/lib/python3.10/dist-packages (from fiona>=1.8.19->geopandas>=0.12->osmnx) (1.1.1)\n",
            "Requirement already satisfied: cligj>=0.5 in /usr/local/lib/python3.10/dist-packages (from fiona>=1.8.19->geopandas>=0.12->osmnx) (0.7.2)\n",
            "Requirement already satisfied: munch>=2.3.2 in /usr/local/lib/python3.10/dist-packages (from fiona>=1.8.19->geopandas>=0.12->osmnx) (2.5.0)\n"
          ]
        }
      ]
    },
    {
      "cell_type": "code",
      "source": [
        "!pip install contextily\n"
      ],
      "metadata": {
        "colab": {
          "base_uri": "https://localhost:8080/"
        },
        "id": "05wt4rgcjTCT",
        "outputId": "c97d6232-2fb4-4dd6-e2b6-dc99d15f5bb9"
      },
      "id": "05wt4rgcjTCT",
      "execution_count": 50,
      "outputs": [
        {
          "output_type": "stream",
          "name": "stdout",
          "text": [
            "Looking in indexes: https://pypi.org/simple, https://us-python.pkg.dev/colab-wheels/public/simple/\n",
            "Requirement already satisfied: contextily in /usr/local/lib/python3.10/dist-packages (1.3.0)\n",
            "Requirement already satisfied: geopy in /usr/local/lib/python3.10/dist-packages (from contextily) (2.3.0)\n",
            "Requirement already satisfied: matplotlib in /usr/local/lib/python3.10/dist-packages (from contextily) (3.7.1)\n",
            "Requirement already satisfied: mercantile in /usr/local/lib/python3.10/dist-packages (from contextily) (1.2.1)\n",
            "Requirement already satisfied: pillow in /usr/local/lib/python3.10/dist-packages (from contextily) (8.4.0)\n",
            "Requirement already satisfied: rasterio in /usr/local/lib/python3.10/dist-packages (from contextily) (1.3.6)\n",
            "Requirement already satisfied: requests in /usr/local/lib/python3.10/dist-packages (from contextily) (2.30.0)\n",
            "Requirement already satisfied: joblib in /usr/local/lib/python3.10/dist-packages (from contextily) (1.2.0)\n",
            "Requirement already satisfied: xyzservices in /usr/local/lib/python3.10/dist-packages (from contextily) (2023.2.0)\n",
            "Requirement already satisfied: geographiclib<3,>=1.52 in /usr/local/lib/python3.10/dist-packages (from geopy->contextily) (2.0)\n",
            "Requirement already satisfied: contourpy>=1.0.1 in /usr/local/lib/python3.10/dist-packages (from matplotlib->contextily) (1.0.7)\n",
            "Requirement already satisfied: cycler>=0.10 in /usr/local/lib/python3.10/dist-packages (from matplotlib->contextily) (0.11.0)\n",
            "Requirement already satisfied: fonttools>=4.22.0 in /usr/local/lib/python3.10/dist-packages (from matplotlib->contextily) (4.39.3)\n",
            "Requirement already satisfied: kiwisolver>=1.0.1 in /usr/local/lib/python3.10/dist-packages (from matplotlib->contextily) (1.4.4)\n",
            "Requirement already satisfied: numpy>=1.20 in /usr/local/lib/python3.10/dist-packages (from matplotlib->contextily) (1.24.3)\n",
            "Requirement already satisfied: packaging>=20.0 in /usr/local/lib/python3.10/dist-packages (from matplotlib->contextily) (23.1)\n",
            "Requirement already satisfied: pyparsing>=2.3.1 in /usr/local/lib/python3.10/dist-packages (from matplotlib->contextily) (3.0.9)\n",
            "Requirement already satisfied: python-dateutil>=2.7 in /usr/local/lib/python3.10/dist-packages (from matplotlib->contextily) (2.8.2)\n",
            "Requirement already satisfied: click>=3.0 in /usr/local/lib/python3.10/dist-packages (from mercantile->contextily) (8.1.3)\n",
            "Requirement already satisfied: affine in /usr/local/lib/python3.10/dist-packages (from rasterio->contextily) (2.4.0)\n",
            "Requirement already satisfied: attrs in /usr/local/lib/python3.10/dist-packages (from rasterio->contextily) (23.1.0)\n",
            "Requirement already satisfied: certifi in /usr/local/lib/python3.10/dist-packages (from rasterio->contextily) (2022.12.7)\n",
            "Requirement already satisfied: cligj>=0.5 in /usr/local/lib/python3.10/dist-packages (from rasterio->contextily) (0.7.2)\n",
            "Requirement already satisfied: snuggs>=1.4.1 in /usr/local/lib/python3.10/dist-packages (from rasterio->contextily) (1.4.7)\n",
            "Requirement already satisfied: click-plugins in /usr/local/lib/python3.10/dist-packages (from rasterio->contextily) (1.1.1)\n",
            "Requirement already satisfied: setuptools in /usr/local/lib/python3.10/dist-packages (from rasterio->contextily) (67.7.2)\n",
            "Requirement already satisfied: charset-normalizer<4,>=2 in /usr/local/lib/python3.10/dist-packages (from requests->contextily) (2.0.12)\n",
            "Requirement already satisfied: idna<4,>=2.5 in /usr/local/lib/python3.10/dist-packages (from requests->contextily) (3.4)\n",
            "Requirement already satisfied: urllib3<3,>=1.21.1 in /usr/local/lib/python3.10/dist-packages (from requests->contextily) (1.26.15)\n",
            "Requirement already satisfied: six>=1.5 in /usr/local/lib/python3.10/dist-packages (from python-dateutil>=2.7->matplotlib->contextily) (1.16.0)\n"
          ]
        }
      ]
    },
    {
      "cell_type": "code",
      "execution_count": 53,
      "id": "37ca73ad-e404-49ae-8e1a-f3706795b305",
      "metadata": {
        "id": "37ca73ad-e404-49ae-8e1a-f3706795b305"
      },
      "outputs": [],
      "source": [
        "# Load the dataset into a pandas dataframe\n",
        "df = pd.read_csv('deliverytime.csv')"
      ]
    },
    {
      "cell_type": "code",
      "execution_count": 54,
      "id": "a7f92369-7756-4c97-819a-e1c9dbd8cbec",
      "metadata": {
        "colab": {
          "base_uri": "https://localhost:8080/",
          "height": 206
        },
        "id": "a7f92369-7756-4c97-819a-e1c9dbd8cbec",
        "outputId": "6eeb6799-f8f8-47a7-b7a4-c1a5f4696ffb"
      },
      "outputs": [
        {
          "output_type": "execute_result",
          "data": {
            "text/plain": [
              "     ID Delivery_person_ID  Delivery_person_Age  Delivery_person_Ratings  \\\n",
              "0  4607     INDORES13DEL02                   37                      4.9   \n",
              "1  B379     BANGRES18DEL02                   34                      4.5   \n",
              "2  5D6D     BANGRES19DEL01                   23                      4.4   \n",
              "3  7A6A    COIMBRES13DEL02                   38                      4.7   \n",
              "4  70A2     CHENRES12DEL01                   32                      4.6   \n",
              "\n",
              "   Restaurant_latitude  Restaurant_longitude  Delivery_location_latitude  \\\n",
              "0            22.745049             75.892471                   22.765049   \n",
              "1            12.913041             77.683237                   13.043041   \n",
              "2            12.914264             77.678400                   12.924264   \n",
              "3            11.003669             76.976494                   11.053669   \n",
              "4            12.972793             80.249982                   13.012793   \n",
              "\n",
              "   Delivery_location_longitude Type_of_order Type_of_vehicle  Time_taken(min)  \n",
              "0                    75.912471        Snack      motorcycle                24  \n",
              "1                    77.813237        Snack         scooter                33  \n",
              "2                    77.688400       Drinks      motorcycle                26  \n",
              "3                    77.026494       Buffet      motorcycle                21  \n",
              "4                    80.289982        Snack         scooter                30  "
            ],
            "text/html": [
              "\n",
              "  <div id=\"df-63b70b17-7a01-471e-992f-ad2ad0919a21\">\n",
              "    <div class=\"colab-df-container\">\n",
              "      <div>\n",
              "<style scoped>\n",
              "    .dataframe tbody tr th:only-of-type {\n",
              "        vertical-align: middle;\n",
              "    }\n",
              "\n",
              "    .dataframe tbody tr th {\n",
              "        vertical-align: top;\n",
              "    }\n",
              "\n",
              "    .dataframe thead th {\n",
              "        text-align: right;\n",
              "    }\n",
              "</style>\n",
              "<table border=\"1\" class=\"dataframe\">\n",
              "  <thead>\n",
              "    <tr style=\"text-align: right;\">\n",
              "      <th></th>\n",
              "      <th>ID</th>\n",
              "      <th>Delivery_person_ID</th>\n",
              "      <th>Delivery_person_Age</th>\n",
              "      <th>Delivery_person_Ratings</th>\n",
              "      <th>Restaurant_latitude</th>\n",
              "      <th>Restaurant_longitude</th>\n",
              "      <th>Delivery_location_latitude</th>\n",
              "      <th>Delivery_location_longitude</th>\n",
              "      <th>Type_of_order</th>\n",
              "      <th>Type_of_vehicle</th>\n",
              "      <th>Time_taken(min)</th>\n",
              "    </tr>\n",
              "  </thead>\n",
              "  <tbody>\n",
              "    <tr>\n",
              "      <th>0</th>\n",
              "      <td>4607</td>\n",
              "      <td>INDORES13DEL02</td>\n",
              "      <td>37</td>\n",
              "      <td>4.9</td>\n",
              "      <td>22.745049</td>\n",
              "      <td>75.892471</td>\n",
              "      <td>22.765049</td>\n",
              "      <td>75.912471</td>\n",
              "      <td>Snack</td>\n",
              "      <td>motorcycle</td>\n",
              "      <td>24</td>\n",
              "    </tr>\n",
              "    <tr>\n",
              "      <th>1</th>\n",
              "      <td>B379</td>\n",
              "      <td>BANGRES18DEL02</td>\n",
              "      <td>34</td>\n",
              "      <td>4.5</td>\n",
              "      <td>12.913041</td>\n",
              "      <td>77.683237</td>\n",
              "      <td>13.043041</td>\n",
              "      <td>77.813237</td>\n",
              "      <td>Snack</td>\n",
              "      <td>scooter</td>\n",
              "      <td>33</td>\n",
              "    </tr>\n",
              "    <tr>\n",
              "      <th>2</th>\n",
              "      <td>5D6D</td>\n",
              "      <td>BANGRES19DEL01</td>\n",
              "      <td>23</td>\n",
              "      <td>4.4</td>\n",
              "      <td>12.914264</td>\n",
              "      <td>77.678400</td>\n",
              "      <td>12.924264</td>\n",
              "      <td>77.688400</td>\n",
              "      <td>Drinks</td>\n",
              "      <td>motorcycle</td>\n",
              "      <td>26</td>\n",
              "    </tr>\n",
              "    <tr>\n",
              "      <th>3</th>\n",
              "      <td>7A6A</td>\n",
              "      <td>COIMBRES13DEL02</td>\n",
              "      <td>38</td>\n",
              "      <td>4.7</td>\n",
              "      <td>11.003669</td>\n",
              "      <td>76.976494</td>\n",
              "      <td>11.053669</td>\n",
              "      <td>77.026494</td>\n",
              "      <td>Buffet</td>\n",
              "      <td>motorcycle</td>\n",
              "      <td>21</td>\n",
              "    </tr>\n",
              "    <tr>\n",
              "      <th>4</th>\n",
              "      <td>70A2</td>\n",
              "      <td>CHENRES12DEL01</td>\n",
              "      <td>32</td>\n",
              "      <td>4.6</td>\n",
              "      <td>12.972793</td>\n",
              "      <td>80.249982</td>\n",
              "      <td>13.012793</td>\n",
              "      <td>80.289982</td>\n",
              "      <td>Snack</td>\n",
              "      <td>scooter</td>\n",
              "      <td>30</td>\n",
              "    </tr>\n",
              "  </tbody>\n",
              "</table>\n",
              "</div>\n",
              "      <button class=\"colab-df-convert\" onclick=\"convertToInteractive('df-63b70b17-7a01-471e-992f-ad2ad0919a21')\"\n",
              "              title=\"Convert this dataframe to an interactive table.\"\n",
              "              style=\"display:none;\">\n",
              "        \n",
              "  <svg xmlns=\"http://www.w3.org/2000/svg\" height=\"24px\"viewBox=\"0 0 24 24\"\n",
              "       width=\"24px\">\n",
              "    <path d=\"M0 0h24v24H0V0z\" fill=\"none\"/>\n",
              "    <path d=\"M18.56 5.44l.94 2.06.94-2.06 2.06-.94-2.06-.94-.94-2.06-.94 2.06-2.06.94zm-11 1L8.5 8.5l.94-2.06 2.06-.94-2.06-.94L8.5 2.5l-.94 2.06-2.06.94zm10 10l.94 2.06.94-2.06 2.06-.94-2.06-.94-.94-2.06-.94 2.06-2.06.94z\"/><path d=\"M17.41 7.96l-1.37-1.37c-.4-.4-.92-.59-1.43-.59-.52 0-1.04.2-1.43.59L10.3 9.45l-7.72 7.72c-.78.78-.78 2.05 0 2.83L4 21.41c.39.39.9.59 1.41.59.51 0 1.02-.2 1.41-.59l7.78-7.78 2.81-2.81c.8-.78.8-2.07 0-2.86zM5.41 20L4 18.59l7.72-7.72 1.47 1.35L5.41 20z\"/>\n",
              "  </svg>\n",
              "      </button>\n",
              "      \n",
              "  <style>\n",
              "    .colab-df-container {\n",
              "      display:flex;\n",
              "      flex-wrap:wrap;\n",
              "      gap: 12px;\n",
              "    }\n",
              "\n",
              "    .colab-df-convert {\n",
              "      background-color: #E8F0FE;\n",
              "      border: none;\n",
              "      border-radius: 50%;\n",
              "      cursor: pointer;\n",
              "      display: none;\n",
              "      fill: #1967D2;\n",
              "      height: 32px;\n",
              "      padding: 0 0 0 0;\n",
              "      width: 32px;\n",
              "    }\n",
              "\n",
              "    .colab-df-convert:hover {\n",
              "      background-color: #E2EBFA;\n",
              "      box-shadow: 0px 1px 2px rgba(60, 64, 67, 0.3), 0px 1px 3px 1px rgba(60, 64, 67, 0.15);\n",
              "      fill: #174EA6;\n",
              "    }\n",
              "\n",
              "    [theme=dark] .colab-df-convert {\n",
              "      background-color: #3B4455;\n",
              "      fill: #D2E3FC;\n",
              "    }\n",
              "\n",
              "    [theme=dark] .colab-df-convert:hover {\n",
              "      background-color: #434B5C;\n",
              "      box-shadow: 0px 1px 3px 1px rgba(0, 0, 0, 0.15);\n",
              "      filter: drop-shadow(0px 1px 2px rgba(0, 0, 0, 0.3));\n",
              "      fill: #FFFFFF;\n",
              "    }\n",
              "  </style>\n",
              "\n",
              "      <script>\n",
              "        const buttonEl =\n",
              "          document.querySelector('#df-63b70b17-7a01-471e-992f-ad2ad0919a21 button.colab-df-convert');\n",
              "        buttonEl.style.display =\n",
              "          google.colab.kernel.accessAllowed ? 'block' : 'none';\n",
              "\n",
              "        async function convertToInteractive(key) {\n",
              "          const element = document.querySelector('#df-63b70b17-7a01-471e-992f-ad2ad0919a21');\n",
              "          const dataTable =\n",
              "            await google.colab.kernel.invokeFunction('convertToInteractive',\n",
              "                                                     [key], {});\n",
              "          if (!dataTable) return;\n",
              "\n",
              "          const docLinkHtml = 'Like what you see? Visit the ' +\n",
              "            '<a target=\"_blank\" href=https://colab.research.google.com/notebooks/data_table.ipynb>data table notebook</a>'\n",
              "            + ' to learn more about interactive tables.';\n",
              "          element.innerHTML = '';\n",
              "          dataTable['output_type'] = 'display_data';\n",
              "          await google.colab.output.renderOutput(dataTable, element);\n",
              "          const docLink = document.createElement('div');\n",
              "          docLink.innerHTML = docLinkHtml;\n",
              "          element.appendChild(docLink);\n",
              "        }\n",
              "      </script>\n",
              "    </div>\n",
              "  </div>\n",
              "  "
            ]
          },
          "metadata": {},
          "execution_count": 54
        }
      ],
      "source": [
        "# Confirm the dataset\n",
        "df.head()"
      ]
    },
    {
      "cell_type": "code",
      "execution_count": 55,
      "id": "ba8bc46a-ca8d-4f43-a5f2-67e61b09053b",
      "metadata": {
        "id": "ba8bc46a-ca8d-4f43-a5f2-67e61b09053b"
      },
      "outputs": [],
      "source": [
        "# Data cleaning: Drop unnecessary columns\n",
        "df = df.drop(columns=['ID','Delivery_person_ID','Delivery_person_Age','Delivery_person_Ratings','Type_of_order','Type_of_vehicle'])"
      ]
    },
    {
      "cell_type": "code",
      "execution_count": 56,
      "id": "2dc64344-e6d4-46e3-ba21-b0f16cbc74b2",
      "metadata": {
        "colab": {
          "base_uri": "https://localhost:8080/",
          "height": 206
        },
        "id": "2dc64344-e6d4-46e3-ba21-b0f16cbc74b2",
        "outputId": "86060a21-9740-46c3-c9f3-0f9b764ed3ce"
      },
      "outputs": [
        {
          "output_type": "execute_result",
          "data": {
            "text/plain": [
              "   Restaurant_latitude  Restaurant_longitude  Delivery_location_latitude  \\\n",
              "0            22.745049             75.892471                   22.765049   \n",
              "1            12.913041             77.683237                   13.043041   \n",
              "2            12.914264             77.678400                   12.924264   \n",
              "3            11.003669             76.976494                   11.053669   \n",
              "4            12.972793             80.249982                   13.012793   \n",
              "\n",
              "   Delivery_location_longitude  Time_taken(min)  \n",
              "0                    75.912471               24  \n",
              "1                    77.813237               33  \n",
              "2                    77.688400               26  \n",
              "3                    77.026494               21  \n",
              "4                    80.289982               30  "
            ],
            "text/html": [
              "\n",
              "  <div id=\"df-44e7b7b0-0289-4165-bb18-5165d56f65d2\">\n",
              "    <div class=\"colab-df-container\">\n",
              "      <div>\n",
              "<style scoped>\n",
              "    .dataframe tbody tr th:only-of-type {\n",
              "        vertical-align: middle;\n",
              "    }\n",
              "\n",
              "    .dataframe tbody tr th {\n",
              "        vertical-align: top;\n",
              "    }\n",
              "\n",
              "    .dataframe thead th {\n",
              "        text-align: right;\n",
              "    }\n",
              "</style>\n",
              "<table border=\"1\" class=\"dataframe\">\n",
              "  <thead>\n",
              "    <tr style=\"text-align: right;\">\n",
              "      <th></th>\n",
              "      <th>Restaurant_latitude</th>\n",
              "      <th>Restaurant_longitude</th>\n",
              "      <th>Delivery_location_latitude</th>\n",
              "      <th>Delivery_location_longitude</th>\n",
              "      <th>Time_taken(min)</th>\n",
              "    </tr>\n",
              "  </thead>\n",
              "  <tbody>\n",
              "    <tr>\n",
              "      <th>0</th>\n",
              "      <td>22.745049</td>\n",
              "      <td>75.892471</td>\n",
              "      <td>22.765049</td>\n",
              "      <td>75.912471</td>\n",
              "      <td>24</td>\n",
              "    </tr>\n",
              "    <tr>\n",
              "      <th>1</th>\n",
              "      <td>12.913041</td>\n",
              "      <td>77.683237</td>\n",
              "      <td>13.043041</td>\n",
              "      <td>77.813237</td>\n",
              "      <td>33</td>\n",
              "    </tr>\n",
              "    <tr>\n",
              "      <th>2</th>\n",
              "      <td>12.914264</td>\n",
              "      <td>77.678400</td>\n",
              "      <td>12.924264</td>\n",
              "      <td>77.688400</td>\n",
              "      <td>26</td>\n",
              "    </tr>\n",
              "    <tr>\n",
              "      <th>3</th>\n",
              "      <td>11.003669</td>\n",
              "      <td>76.976494</td>\n",
              "      <td>11.053669</td>\n",
              "      <td>77.026494</td>\n",
              "      <td>21</td>\n",
              "    </tr>\n",
              "    <tr>\n",
              "      <th>4</th>\n",
              "      <td>12.972793</td>\n",
              "      <td>80.249982</td>\n",
              "      <td>13.012793</td>\n",
              "      <td>80.289982</td>\n",
              "      <td>30</td>\n",
              "    </tr>\n",
              "  </tbody>\n",
              "</table>\n",
              "</div>\n",
              "      <button class=\"colab-df-convert\" onclick=\"convertToInteractive('df-44e7b7b0-0289-4165-bb18-5165d56f65d2')\"\n",
              "              title=\"Convert this dataframe to an interactive table.\"\n",
              "              style=\"display:none;\">\n",
              "        \n",
              "  <svg xmlns=\"http://www.w3.org/2000/svg\" height=\"24px\"viewBox=\"0 0 24 24\"\n",
              "       width=\"24px\">\n",
              "    <path d=\"M0 0h24v24H0V0z\" fill=\"none\"/>\n",
              "    <path d=\"M18.56 5.44l.94 2.06.94-2.06 2.06-.94-2.06-.94-.94-2.06-.94 2.06-2.06.94zm-11 1L8.5 8.5l.94-2.06 2.06-.94-2.06-.94L8.5 2.5l-.94 2.06-2.06.94zm10 10l.94 2.06.94-2.06 2.06-.94-2.06-.94-.94-2.06-.94 2.06-2.06.94z\"/><path d=\"M17.41 7.96l-1.37-1.37c-.4-.4-.92-.59-1.43-.59-.52 0-1.04.2-1.43.59L10.3 9.45l-7.72 7.72c-.78.78-.78 2.05 0 2.83L4 21.41c.39.39.9.59 1.41.59.51 0 1.02-.2 1.41-.59l7.78-7.78 2.81-2.81c.8-.78.8-2.07 0-2.86zM5.41 20L4 18.59l7.72-7.72 1.47 1.35L5.41 20z\"/>\n",
              "  </svg>\n",
              "      </button>\n",
              "      \n",
              "  <style>\n",
              "    .colab-df-container {\n",
              "      display:flex;\n",
              "      flex-wrap:wrap;\n",
              "      gap: 12px;\n",
              "    }\n",
              "\n",
              "    .colab-df-convert {\n",
              "      background-color: #E8F0FE;\n",
              "      border: none;\n",
              "      border-radius: 50%;\n",
              "      cursor: pointer;\n",
              "      display: none;\n",
              "      fill: #1967D2;\n",
              "      height: 32px;\n",
              "      padding: 0 0 0 0;\n",
              "      width: 32px;\n",
              "    }\n",
              "\n",
              "    .colab-df-convert:hover {\n",
              "      background-color: #E2EBFA;\n",
              "      box-shadow: 0px 1px 2px rgba(60, 64, 67, 0.3), 0px 1px 3px 1px rgba(60, 64, 67, 0.15);\n",
              "      fill: #174EA6;\n",
              "    }\n",
              "\n",
              "    [theme=dark] .colab-df-convert {\n",
              "      background-color: #3B4455;\n",
              "      fill: #D2E3FC;\n",
              "    }\n",
              "\n",
              "    [theme=dark] .colab-df-convert:hover {\n",
              "      background-color: #434B5C;\n",
              "      box-shadow: 0px 1px 3px 1px rgba(0, 0, 0, 0.15);\n",
              "      filter: drop-shadow(0px 1px 2px rgba(0, 0, 0, 0.3));\n",
              "      fill: #FFFFFF;\n",
              "    }\n",
              "  </style>\n",
              "\n",
              "      <script>\n",
              "        const buttonEl =\n",
              "          document.querySelector('#df-44e7b7b0-0289-4165-bb18-5165d56f65d2 button.colab-df-convert');\n",
              "        buttonEl.style.display =\n",
              "          google.colab.kernel.accessAllowed ? 'block' : 'none';\n",
              "\n",
              "        async function convertToInteractive(key) {\n",
              "          const element = document.querySelector('#df-44e7b7b0-0289-4165-bb18-5165d56f65d2');\n",
              "          const dataTable =\n",
              "            await google.colab.kernel.invokeFunction('convertToInteractive',\n",
              "                                                     [key], {});\n",
              "          if (!dataTable) return;\n",
              "\n",
              "          const docLinkHtml = 'Like what you see? Visit the ' +\n",
              "            '<a target=\"_blank\" href=https://colab.research.google.com/notebooks/data_table.ipynb>data table notebook</a>'\n",
              "            + ' to learn more about interactive tables.';\n",
              "          element.innerHTML = '';\n",
              "          dataTable['output_type'] = 'display_data';\n",
              "          await google.colab.output.renderOutput(dataTable, element);\n",
              "          const docLink = document.createElement('div');\n",
              "          docLink.innerHTML = docLinkHtml;\n",
              "          element.appendChild(docLink);\n",
              "        }\n",
              "      </script>\n",
              "    </div>\n",
              "  </div>\n",
              "  "
            ]
          },
          "metadata": {},
          "execution_count": 56
        }
      ],
      "source": [
        "# Reconfirm data\n",
        "df.head()"
      ]
    },
    {
      "cell_type": "code",
      "execution_count": 57,
      "id": "02aa419c-e50c-448f-be10-1afab5d51333",
      "metadata": {
        "colab": {
          "base_uri": "https://localhost:8080/",
          "height": 206
        },
        "id": "02aa419c-e50c-448f-be10-1afab5d51333",
        "outputId": "89855752-dbc2-47ee-a922-916b6494795b"
      },
      "outputs": [
        {
          "output_type": "execute_result",
          "data": {
            "text/plain": [
              "   start_lon  start_lat    end_lon    end_lat  travel_time\n",
              "0  22.745049  75.892471  22.765049  75.912471           24\n",
              "1  12.913041  77.683237  13.043041  77.813237           33\n",
              "2  12.914264  77.678400  12.924264  77.688400           26\n",
              "3  11.003669  76.976494  11.053669  77.026494           21\n",
              "4  12.972793  80.249982  13.012793  80.289982           30"
            ],
            "text/html": [
              "\n",
              "  <div id=\"df-5596e81e-9972-4c3d-9b39-9b163b3b79ae\">\n",
              "    <div class=\"colab-df-container\">\n",
              "      <div>\n",
              "<style scoped>\n",
              "    .dataframe tbody tr th:only-of-type {\n",
              "        vertical-align: middle;\n",
              "    }\n",
              "\n",
              "    .dataframe tbody tr th {\n",
              "        vertical-align: top;\n",
              "    }\n",
              "\n",
              "    .dataframe thead th {\n",
              "        text-align: right;\n",
              "    }\n",
              "</style>\n",
              "<table border=\"1\" class=\"dataframe\">\n",
              "  <thead>\n",
              "    <tr style=\"text-align: right;\">\n",
              "      <th></th>\n",
              "      <th>start_lon</th>\n",
              "      <th>start_lat</th>\n",
              "      <th>end_lon</th>\n",
              "      <th>end_lat</th>\n",
              "      <th>travel_time</th>\n",
              "    </tr>\n",
              "  </thead>\n",
              "  <tbody>\n",
              "    <tr>\n",
              "      <th>0</th>\n",
              "      <td>22.745049</td>\n",
              "      <td>75.892471</td>\n",
              "      <td>22.765049</td>\n",
              "      <td>75.912471</td>\n",
              "      <td>24</td>\n",
              "    </tr>\n",
              "    <tr>\n",
              "      <th>1</th>\n",
              "      <td>12.913041</td>\n",
              "      <td>77.683237</td>\n",
              "      <td>13.043041</td>\n",
              "      <td>77.813237</td>\n",
              "      <td>33</td>\n",
              "    </tr>\n",
              "    <tr>\n",
              "      <th>2</th>\n",
              "      <td>12.914264</td>\n",
              "      <td>77.678400</td>\n",
              "      <td>12.924264</td>\n",
              "      <td>77.688400</td>\n",
              "      <td>26</td>\n",
              "    </tr>\n",
              "    <tr>\n",
              "      <th>3</th>\n",
              "      <td>11.003669</td>\n",
              "      <td>76.976494</td>\n",
              "      <td>11.053669</td>\n",
              "      <td>77.026494</td>\n",
              "      <td>21</td>\n",
              "    </tr>\n",
              "    <tr>\n",
              "      <th>4</th>\n",
              "      <td>12.972793</td>\n",
              "      <td>80.249982</td>\n",
              "      <td>13.012793</td>\n",
              "      <td>80.289982</td>\n",
              "      <td>30</td>\n",
              "    </tr>\n",
              "  </tbody>\n",
              "</table>\n",
              "</div>\n",
              "      <button class=\"colab-df-convert\" onclick=\"convertToInteractive('df-5596e81e-9972-4c3d-9b39-9b163b3b79ae')\"\n",
              "              title=\"Convert this dataframe to an interactive table.\"\n",
              "              style=\"display:none;\">\n",
              "        \n",
              "  <svg xmlns=\"http://www.w3.org/2000/svg\" height=\"24px\"viewBox=\"0 0 24 24\"\n",
              "       width=\"24px\">\n",
              "    <path d=\"M0 0h24v24H0V0z\" fill=\"none\"/>\n",
              "    <path d=\"M18.56 5.44l.94 2.06.94-2.06 2.06-.94-2.06-.94-.94-2.06-.94 2.06-2.06.94zm-11 1L8.5 8.5l.94-2.06 2.06-.94-2.06-.94L8.5 2.5l-.94 2.06-2.06.94zm10 10l.94 2.06.94-2.06 2.06-.94-2.06-.94-.94-2.06-.94 2.06-2.06.94z\"/><path d=\"M17.41 7.96l-1.37-1.37c-.4-.4-.92-.59-1.43-.59-.52 0-1.04.2-1.43.59L10.3 9.45l-7.72 7.72c-.78.78-.78 2.05 0 2.83L4 21.41c.39.39.9.59 1.41.59.51 0 1.02-.2 1.41-.59l7.78-7.78 2.81-2.81c.8-.78.8-2.07 0-2.86zM5.41 20L4 18.59l7.72-7.72 1.47 1.35L5.41 20z\"/>\n",
              "  </svg>\n",
              "      </button>\n",
              "      \n",
              "  <style>\n",
              "    .colab-df-container {\n",
              "      display:flex;\n",
              "      flex-wrap:wrap;\n",
              "      gap: 12px;\n",
              "    }\n",
              "\n",
              "    .colab-df-convert {\n",
              "      background-color: #E8F0FE;\n",
              "      border: none;\n",
              "      border-radius: 50%;\n",
              "      cursor: pointer;\n",
              "      display: none;\n",
              "      fill: #1967D2;\n",
              "      height: 32px;\n",
              "      padding: 0 0 0 0;\n",
              "      width: 32px;\n",
              "    }\n",
              "\n",
              "    .colab-df-convert:hover {\n",
              "      background-color: #E2EBFA;\n",
              "      box-shadow: 0px 1px 2px rgba(60, 64, 67, 0.3), 0px 1px 3px 1px rgba(60, 64, 67, 0.15);\n",
              "      fill: #174EA6;\n",
              "    }\n",
              "\n",
              "    [theme=dark] .colab-df-convert {\n",
              "      background-color: #3B4455;\n",
              "      fill: #D2E3FC;\n",
              "    }\n",
              "\n",
              "    [theme=dark] .colab-df-convert:hover {\n",
              "      background-color: #434B5C;\n",
              "      box-shadow: 0px 1px 3px 1px rgba(0, 0, 0, 0.15);\n",
              "      filter: drop-shadow(0px 1px 2px rgba(0, 0, 0, 0.3));\n",
              "      fill: #FFFFFF;\n",
              "    }\n",
              "  </style>\n",
              "\n",
              "      <script>\n",
              "        const buttonEl =\n",
              "          document.querySelector('#df-5596e81e-9972-4c3d-9b39-9b163b3b79ae button.colab-df-convert');\n",
              "        buttonEl.style.display =\n",
              "          google.colab.kernel.accessAllowed ? 'block' : 'none';\n",
              "\n",
              "        async function convertToInteractive(key) {\n",
              "          const element = document.querySelector('#df-5596e81e-9972-4c3d-9b39-9b163b3b79ae');\n",
              "          const dataTable =\n",
              "            await google.colab.kernel.invokeFunction('convertToInteractive',\n",
              "                                                     [key], {});\n",
              "          if (!dataTable) return;\n",
              "\n",
              "          const docLinkHtml = 'Like what you see? Visit the ' +\n",
              "            '<a target=\"_blank\" href=https://colab.research.google.com/notebooks/data_table.ipynb>data table notebook</a>'\n",
              "            + ' to learn more about interactive tables.';\n",
              "          element.innerHTML = '';\n",
              "          dataTable['output_type'] = 'display_data';\n",
              "          await google.colab.output.renderOutput(dataTable, element);\n",
              "          const docLink = document.createElement('div');\n",
              "          docLink.innerHTML = docLinkHtml;\n",
              "          element.appendChild(docLink);\n",
              "        }\n",
              "      </script>\n",
              "    </div>\n",
              "  </div>\n",
              "  "
            ]
          },
          "metadata": {},
          "execution_count": 57
        }
      ],
      "source": [
        "# Rename column names\n",
        "df = df.rename(columns={'Restaurant_latitude':'start_lon' ,'Restaurant_longitude': 'start_lat', 'Delivery_location_latitude':'end_lon','Delivery_location_longitude':'end_lat','Time_taken(min)':'travel_time'})\n",
        "\n",
        "# Display df\n",
        "df.head()"
      ]
    },
    {
      "cell_type": "markdown",
      "id": "1de8c04c-b0c4-43a4-a2c1-fb125f7bc0a3",
      "metadata": {
        "id": "1de8c04c-b0c4-43a4-a2c1-fb125f7bc0a3"
      },
      "source": [
        "## Run Machine Learning Model"
      ]
    },
    {
      "cell_type": "code",
      "execution_count": 58,
      "id": "3d90b47d-8b45-4d55-a3b0-810f21b15fd4",
      "metadata": {
        "colab": {
          "base_uri": "https://localhost:8080/",
          "height": 75
        },
        "id": "3d90b47d-8b45-4d55-a3b0-810f21b15fd4",
        "outputId": "9d19d2ba-ab19-4d68-81bb-69143789e1fc"
      },
      "outputs": [
        {
          "output_type": "execute_result",
          "data": {
            "text/plain": [
              "RandomForestRegressor()"
            ],
            "text/html": [
              "<style>#sk-container-id-4 {color: black;background-color: white;}#sk-container-id-4 pre{padding: 0;}#sk-container-id-4 div.sk-toggleable {background-color: white;}#sk-container-id-4 label.sk-toggleable__label {cursor: pointer;display: block;width: 100%;margin-bottom: 0;padding: 0.3em;box-sizing: border-box;text-align: center;}#sk-container-id-4 label.sk-toggleable__label-arrow:before {content: \"▸\";float: left;margin-right: 0.25em;color: #696969;}#sk-container-id-4 label.sk-toggleable__label-arrow:hover:before {color: black;}#sk-container-id-4 div.sk-estimator:hover label.sk-toggleable__label-arrow:before {color: black;}#sk-container-id-4 div.sk-toggleable__content {max-height: 0;max-width: 0;overflow: hidden;text-align: left;background-color: #f0f8ff;}#sk-container-id-4 div.sk-toggleable__content pre {margin: 0.2em;color: black;border-radius: 0.25em;background-color: #f0f8ff;}#sk-container-id-4 input.sk-toggleable__control:checked~div.sk-toggleable__content {max-height: 200px;max-width: 100%;overflow: auto;}#sk-container-id-4 input.sk-toggleable__control:checked~label.sk-toggleable__label-arrow:before {content: \"▾\";}#sk-container-id-4 div.sk-estimator input.sk-toggleable__control:checked~label.sk-toggleable__label {background-color: #d4ebff;}#sk-container-id-4 div.sk-label input.sk-toggleable__control:checked~label.sk-toggleable__label {background-color: #d4ebff;}#sk-container-id-4 input.sk-hidden--visually {border: 0;clip: rect(1px 1px 1px 1px);clip: rect(1px, 1px, 1px, 1px);height: 1px;margin: -1px;overflow: hidden;padding: 0;position: absolute;width: 1px;}#sk-container-id-4 div.sk-estimator {font-family: monospace;background-color: #f0f8ff;border: 1px dotted black;border-radius: 0.25em;box-sizing: border-box;margin-bottom: 0.5em;}#sk-container-id-4 div.sk-estimator:hover {background-color: #d4ebff;}#sk-container-id-4 div.sk-parallel-item::after {content: \"\";width: 100%;border-bottom: 1px solid gray;flex-grow: 1;}#sk-container-id-4 div.sk-label:hover label.sk-toggleable__label {background-color: #d4ebff;}#sk-container-id-4 div.sk-serial::before {content: \"\";position: absolute;border-left: 1px solid gray;box-sizing: border-box;top: 0;bottom: 0;left: 50%;z-index: 0;}#sk-container-id-4 div.sk-serial {display: flex;flex-direction: column;align-items: center;background-color: white;padding-right: 0.2em;padding-left: 0.2em;position: relative;}#sk-container-id-4 div.sk-item {position: relative;z-index: 1;}#sk-container-id-4 div.sk-parallel {display: flex;align-items: stretch;justify-content: center;background-color: white;position: relative;}#sk-container-id-4 div.sk-item::before, #sk-container-id-4 div.sk-parallel-item::before {content: \"\";position: absolute;border-left: 1px solid gray;box-sizing: border-box;top: 0;bottom: 0;left: 50%;z-index: -1;}#sk-container-id-4 div.sk-parallel-item {display: flex;flex-direction: column;z-index: 1;position: relative;background-color: white;}#sk-container-id-4 div.sk-parallel-item:first-child::after {align-self: flex-end;width: 50%;}#sk-container-id-4 div.sk-parallel-item:last-child::after {align-self: flex-start;width: 50%;}#sk-container-id-4 div.sk-parallel-item:only-child::after {width: 0;}#sk-container-id-4 div.sk-dashed-wrapped {border: 1px dashed gray;margin: 0 0.4em 0.5em 0.4em;box-sizing: border-box;padding-bottom: 0.4em;background-color: white;}#sk-container-id-4 div.sk-label label {font-family: monospace;font-weight: bold;display: inline-block;line-height: 1.2em;}#sk-container-id-4 div.sk-label-container {text-align: center;}#sk-container-id-4 div.sk-container {/* jupyter's `normalize.less` sets `[hidden] { display: none; }` but bootstrap.min.css set `[hidden] { display: none !important; }` so we also need the `!important` here to be able to override the default hidden behavior on the sphinx rendered scikit-learn.org. See: https://github.com/scikit-learn/scikit-learn/issues/21755 */display: inline-block !important;position: relative;}#sk-container-id-4 div.sk-text-repr-fallback {display: none;}</style><div id=\"sk-container-id-4\" class=\"sk-top-container\"><div class=\"sk-text-repr-fallback\"><pre>RandomForestRegressor()</pre><b>In a Jupyter environment, please rerun this cell to show the HTML representation or trust the notebook. <br />On GitHub, the HTML representation is unable to render, please try loading this page with nbviewer.org.</b></div><div class=\"sk-container\" hidden><div class=\"sk-item\"><div class=\"sk-estimator sk-toggleable\"><input class=\"sk-toggleable__control sk-hidden--visually\" id=\"sk-estimator-id-4\" type=\"checkbox\" checked><label for=\"sk-estimator-id-4\" class=\"sk-toggleable__label sk-toggleable__label-arrow\">RandomForestRegressor</label><div class=\"sk-toggleable__content\"><pre>RandomForestRegressor()</pre></div></div></div></div></div>"
            ]
          },
          "metadata": {},
          "execution_count": 58
        }
      ],
      "source": [
        "# Split the dataset into training and testing sets\n",
        "X_train, X_test, y_train, y_test = train_test_split(df[['start_lon', 'start_lat', 'end_lon', 'end_lat']], df['travel_time'], test_size=0.2)\n",
        "\n",
        "# Create a Random Forest regressor model\n",
        "rf = RandomForestRegressor()\n",
        "\n",
        "# Train the model on the training set\n",
        "rf.fit(X_train, y_train)\n"
      ]
    },
    {
      "cell_type": "code",
      "execution_count": 59,
      "id": "4a215e1b-78d0-4a81-af0b-151ad3e5bf2f",
      "metadata": {
        "colab": {
          "base_uri": "https://localhost:8080/"
        },
        "id": "4a215e1b-78d0-4a81-af0b-151ad3e5bf2f",
        "outputId": "e54f32d4-9a85-4802-e442-76b9a0c271a2"
      },
      "outputs": [
        {
          "output_type": "stream",
          "name": "stdout",
          "text": [
            "Mean squared error: 85.61\n"
          ]
        }
      ],
      "source": [
        "# Use the trained model to make predictions on the testing set\n",
        "y_pred = rf.predict(X_test)\n",
        "\n",
        "# Calculate the mean squared error of the predictions\n",
        "mse = mean_squared_error(y_test, y_pred)\n",
        "\n",
        "print(f\"Mean squared error: {mse:.2f}\")"
      ]
    },
    {
      "cell_type": "code",
      "source": [
        "# Save the model to a .pkl file\n",
        "with open('transportation_route_model.pkl', 'wb') as f:\n",
        "    pickle.dump(rf, f)"
      ],
      "metadata": {
        "id": "fJvCZVffoZH4"
      },
      "id": "fJvCZVffoZH4",
      "execution_count": 60,
      "outputs": []
    },
    {
      "cell_type": "code",
      "source": [
        "# Take sample data based on the original dataset\n",
        "sample_df = df.head(20)"
      ],
      "metadata": {
        "id": "I1lvJP59dQoZ"
      },
      "id": "I1lvJP59dQoZ",
      "execution_count": 61,
      "outputs": []
    },
    {
      "cell_type": "markdown",
      "id": "b86fb8e6-3435-400c-9116-e2bd4602339b",
      "metadata": {
        "id": "b86fb8e6-3435-400c-9116-e2bd4602339b"
      },
      "source": [
        "## Show locations in the map"
      ]
    },
    {
      "cell_type": "code",
      "source": [
        "# Create a scatter plot of the starting and ending points\n",
        "plt.scatter(sample_df['start_lon'], sample_df['start_lat'], label='Start', color='blue')\n",
        "plt.scatter(sample_df['end_lon'], sample_df['end_lat'], label='End', color='red')\n",
        "\n",
        "# Add a title and legend\n",
        "plt.title('Transportation Routes')\n",
        "plt.legend()\n",
        "\n",
        "# Show the plot\n",
        "plt.show()"
      ],
      "metadata": {
        "colab": {
          "base_uri": "https://localhost:8080/",
          "height": 452
        },
        "id": "CEH0bdH0eaCh",
        "outputId": "4df61f40-871c-4a0e-dc1d-7c5783d7757c"
      },
      "id": "CEH0bdH0eaCh",
      "execution_count": 36,
      "outputs": [
        {
          "output_type": "display_data",
          "data": {
            "text/plain": [
              "<Figure size 640x480 with 1 Axes>"
            ],
            "image/png": "[encoded data removed]"
          },
          "metadata": {}
        }
      ]
    },
    {
      "cell_type": "code",
      "source": [
        "# Create a scatter plot of the starting and ending points\n",
        "plt.scatter(sample_df['start_lon'], sample_df['start_lat'], label='Start', color='blue')\n",
        "plt.scatter(sample_df['end_lon'], sample_df['end_lat'], label='End', color='red')\n",
        "\n",
        "# Add lines connecting the starting and ending points\n",
        "for _, row in df.iterrows():\n",
        "    start_point = (row['start_lon'], row['start_lat'])\n",
        "    end_point = (row['end_lon'], row['end_lat'])\n",
        "    plt.plot([start_point[0], end_point[0]], [start_point[1], end_point[1]], color='gray')\n",
        "\n",
        "# Add a title and legend\n",
        "plt.title('Transportation Routes')\n",
        "plt.legend()\n",
        "\n",
        "# Show the plot\n",
        "plt.show()"
      ],
      "metadata": {
        "colab": {
          "base_uri": "https://localhost:8080/",
          "height": 452
        },
        "id": "auo9dgITl7NQ",
        "outputId": "bb374535-a8a9-4ff4-93a4-4db798ab5c2a"
      },
      "id": "auo9dgITl7NQ",
      "execution_count": 42,
      "outputs": [
        {
          "output_type": "display_data",
          "data": {
            "text/plain": [
              "<Figure size 640x480 with 1 Axes>"
            ],
            "image/png": "[encoded data removed]"
          },
          "metadata": {}
        }
      ]
    },
    {
      "cell_type": "code",
      "source": [
        "# Create a scatter plot of the starting and ending points\n",
        "plt.scatter(sample_df['start_lon'], sample_df['start_lat'], label='Start', color='blue')\n",
        "plt.scatter(sample_df['end_lon'], sample_df['end_lat'], label='End', color='red')\n",
        "\n",
        "# Add a basemap from OpenStreetMap using contextily\n",
        "ctx.add_basemap(ax=plt.gca(), crs='epsg:4326', source=ctx.providers.OpenStreetMap.Mapnik)\n",
        "\n",
        "# Add a title and legend\n",
        "plt.title('Transportation Routes')\n",
        "plt.legend()\n",
        "\n",
        "# Show the plot\n",
        "plt.show()"
      ],
      "metadata": {
        "colab": {
          "base_uri": "https://localhost:8080/",
          "height": 451
        },
        "id": "zmJPavl1ixvc",
        "outputId": "9bd0cfd8-3a1e-465a-ea2d-c55ea0c01c44"
      },
      "id": "zmJPavl1ixvc",
      "execution_count": 40,
      "outputs": [
        {
          "output_type": "display_data",
          "data": {
            "text/plain": [
              "<Figure size 640x480 with 1 Axes>"
            ],
            "image/png": "[encoded data removed]"
          },
          "metadata": {}
        }
      ]
    },
    {
      "cell_type": "code",
      "source": [
        "import pickle\n",
        "import numpy as np\n",
        "\n",
        "# Load the machine learning model from file\n",
        "with open('transportation_route_model.pkl', 'rb') as f:\n",
        "    model = pickle.load(f)\n",
        "\n",
        "def predict_travel_time(start_lon, start_lat, end_lon, end_lat):\n",
        "    # Create an array with the input features\n",
        "    X = np.array([[start_lon, start_lat, end_lon, end_lat]])\n",
        "\n",
        "    # Load the trained machine learning model\n",
        "    with open('transportation_route_model.pkl', 'rb') as f:\n",
        "        model = pickle.load(f)\n",
        "\n",
        "    # Make a prediction using the input features\n",
        "    travel_time = model.predict(X)\n",
        "\n",
        "    # Return the predicted travel time\n",
        "    return travel_time[0]\n",
        "\n"
      ],
      "metadata": {
        "id": "O14aKDnCjiCm"
      },
      "id": "O14aKDnCjiCm",
      "execution_count": 64,
      "outputs": []
    },
    {
      "cell_type": "code",
      "source": [
        "# Prompt the user for input\n",
        "# 22.745049\t75.892471\t22.765049\t75.912471\t\n",
        "start_lon = float(input(\"Enter the starting longitude: \"))\n",
        "start_lat = float(input(\"Enter the starting latitude: \"))\n",
        "end_lon = float(input(\"Enter the ending longitude: \"))\n",
        "end_lat = float(input(\"Enter the ending latitude: \"))\n",
        "\n",
        "# Call the predict_travel_time() function with the user input\n",
        "travel_time = predict_travel_time(start_lon, start_lat, end_lon, end_lat)\n",
        "\n",
        "# Print the estimated travel time\n",
        "print(f\"The estimated travel time is {travel_time:.2f} minutes.\")"
      ],
      "metadata": {
        "colab": {
          "base_uri": "https://localhost:8080/"
        },
        "id": "fRWKaUs7nuY4",
        "outputId": "9e68f207-e4f7-41ad-f6e9-0d3355713536"
      },
      "id": "fRWKaUs7nuY4",
      "execution_count": 65,
      "outputs": [
        {
          "output_type": "stream",
          "name": "stdout",
          "text": [
            "Enter the starting longitude: 22.745049\n",
            "Enter the starting latitude: 75.892471\n",
            "Enter the ending longitude: 22.765049\n",
            "Enter the ending latitude: 75.912471\n",
            "The estimated travel time is 22.08 minutes.\n"
          ]
        },
        {
          "output_type": "stream",
          "name": "stderr",
          "text": [
            "/usr/local/lib/python3.10/dist-packages/sklearn/base.py:439: UserWarning: X does not have valid feature names, but RandomForestRegressor was fitted with feature names\n",
            "  warnings.warn(\n"
          ]
        }
      ]
    },
    {
      "cell_type": "code",
      "source": [],
      "metadata": {
        "id": "e1jFbryFpCTz"
      },
      "id": "e1jFbryFpCTz",
      "execution_count": null,
      "outputs": []
    }
  ],
  "metadata": {
    "kernelspec": {
      "display_name": "Python 3 (ipykernel)",
      "language": "python",
      "name": "python3"
    },
    "language_info": {
      "codemirror_mode": {
        "name": "ipython",
        "version": 3
      },
      "file_extension": ".py",
      "mimetype": "text/x-python",
      "name": "python",
      "nbconvert_exporter": "python",
      "pygments_lexer": "ipython3",
      "version": "3.7.15"
    },
    "colab": {
      "provenance": []
    }
  },
  "nbformat": 4,
  "nbformat_minor": 5
}
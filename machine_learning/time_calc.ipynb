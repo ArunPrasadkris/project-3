{
 "cells": [
  {
   "cell_type": "code",
   "execution_count": 1,
   "id": "61ac2c67-c79d-4a3a-a0ef-de5bc94709ec",
   "metadata": {},
   "outputs": [],
   "source": [
    "# This function takes from and to address and tell you how long it takes\n",
    "\n",
    "import pickle\n",
    "import numpy as np\n",
    "from geopy.geocoders import Nominatim\n",
    "\n",
    "def estimate_time_calculator(address_from, address_to):\n",
    "    # Initialize the Nominatim geolocator\n",
    "    geolocator = Nominatim(user_agent=\"my_app\")\n",
    "\n",
    "    # Use the geolocator to get the latitude and longitude coordinates of the address\n",
    "    location_from = geolocator.geocode(address_from)\n",
    "    location_to = geolocator.geocode(address_to)\n",
    "\n",
    "    if location_from is None or location_to is None:\n",
    "        return None\n",
    "\n",
    "    # Call the predict_travel_time() function with the user input\n",
    "    X = np.array([[location_from.longitude, location_from.latitude, location_to.longitude, location_to.latitude]])\n",
    "    \n",
    "    # Load the trained machine learning model\n",
    "    with open('transportation_route_model.pkl', 'rb') as f:\n",
    "        model = pickle.load(f)\n",
    "    \n",
    "    travel_time = model.predict(X)\n",
    "\n",
    "    return travel_time"
   ]
  },
  {
   "cell_type": "code",
   "execution_count": null,
   "id": "43ba8b83-3171-40c8-af77-f1542cb505fd",
   "metadata": {},
   "outputs": [],
   "source": []
  }
 ],
 "metadata": {
  "kernelspec": {
   "display_name": "Python 3 (ipykernel)",
   "language": "python",
   "name": "python3"
  },
  "language_info": {
   "codemirror_mode": {
    "name": "ipython",
    "version": 3
   },
   "file_extension": ".py",
   "mimetype": "text/x-python",
   "name": "python",
   "nbconvert_exporter": "python",
   "pygments_lexer": "ipython3",
   "version": "3.7.15"
  }
 },
 "nbformat": 4,
 "nbformat_minor": 5
}

{
  "nbformat": 4,
  "nbformat_minor": 0,
  "metadata": {
    "colab": {
      "provenance": [],
      "authorship_tag": "ABX9TyN4QESzSp2IWeHNkZami9k8",
      "include_colab_link": true
    },
    "kernelspec": {
      "name": "python3",
      "display_name": "Python 3"
    },
    "language_info": {
      "name": "python"
    }
  },
  "cells": [
    {
      "cell_type": "markdown",
      "metadata": {
        "id": "view-in-github",
        "colab_type": "text"
      },
      "source": [
        "<a href=\"https://colab.research.google.com/github/dileepadrd/project-3/blob/romain/Project_3.ipynb\" target=\"_parent\"><img src=\"https://colab.research.google.com/assets/colab-badge.svg\" alt=\"Open In Colab\"/></a>"
      ]
    },
    {
      "cell_type": "markdown",
      "source": [
        "Import the necessary libraries"
      ],
      "metadata": {
        "id": "5m_bVXuMDCl3"
      }
    },
    {
      "cell_type": "code",
      "source": [
        "from IPython.core.display import warnings\n",
        "import pandas as pd\n",
        "import numpy as np\n",
        "import matplotlib.pyplot as plt\n",
        "import seaborn as sns\n",
        "from sklearn.linear_model import LinearRegression\n",
        "from sklearn.model_selection import train_test_split\n",
        "from sklearn.ensemble import GradientBoostingRegressor\n",
        "from sklearn.metrics import mean_squared_error, r2_score\n",
        "from sklearn.model_selection import train_test_split"
      ],
      "metadata": {
        "id": "Rfo14s33DA40"
      },
      "execution_count": null,
      "outputs": []
    },
    {
      "cell_type": "markdown",
      "source": [
        "Load the data from the CSV file"
      ],
      "metadata": {
        "id": "QIcp_NF7DQkm"
      }
    },
    {
      "cell_type": "code",
      "source": [
        "# Provide the path to your CSV file\n",
        "data_path = '/content/Ethereum Historical Data (1).csv'\n",
        "\n",
        "# Load the data into a DataFrame\n",
        "df = pd.read_csv(data_path)\n",
        "\n",
        "# Display the first few rows of the DataFrame\n",
        "df.head()"
      ],
      "metadata": {
        "colab": {
          "base_uri": "https://localhost:8080/",
          "height": 206
        },
        "id": "hs5amjtkDURT",
        "outputId": "8b7fb85c-c812-44f4-d52d-508ac40a53d9"
      },
      "execution_count": null,
      "outputs": [
        {
          "output_type": "execute_result",
          "data": {
            "text/plain": [
              "           Date   Price    Open    High     Low    Vol. Change %\n",
              "0  Aug 02, 2020  368.23  387.15  415.08  335.76  16.78M   -4.88%\n",
              "1  Aug 01, 2020  387.14  346.48  392.37  343.33  11.03M   11.73%\n",
              "2  Jul 31, 2020  346.51  334.84  349.34  329.02   8.69M    3.48%\n",
              "3  Jul 30, 2020  334.87  317.79  341.11  314.83   9.07M    5.36%\n",
              "4  Jul 29, 2020  317.82  316.95  324.93  312.64   8.72M    0.27%"
            ],
            "text/html": [
              "\n",
              "  <div id=\"df-ddc310a3-44b0-420f-9dc7-6c784a0be4df\">\n",
              "    <div class=\"colab-df-container\">\n",
              "      <div>\n",
              "<style scoped>\n",
              "    .dataframe tbody tr th:only-of-type {\n",
              "        vertical-align: middle;\n",
              "    }\n",
              "\n",
              "    .dataframe tbody tr th {\n",
              "        vertical-align: top;\n",
              "    }\n",
              "\n",
              "    .dataframe thead th {\n",
              "        text-align: right;\n",
              "    }\n",
              "</style>\n",
              "<table border=\"1\" class=\"dataframe\">\n",
              "  <thead>\n",
              "    <tr style=\"text-align: right;\">\n",
              "      <th></th>\n",
              "      <th>Date</th>\n",
              "      <th>Price</th>\n",
              "      <th>Open</th>\n",
              "      <th>High</th>\n",
              "      <th>Low</th>\n",
              "      <th>Vol.</th>\n",
              "      <th>Change %</th>\n",
              "    </tr>\n",
              "  </thead>\n",
              "  <tbody>\n",
              "    <tr>\n",
              "      <th>0</th>\n",
              "      <td>Aug 02, 2020</td>\n",
              "      <td>368.23</td>\n",
              "      <td>387.15</td>\n",
              "      <td>415.08</td>\n",
              "      <td>335.76</td>\n",
              "      <td>16.78M</td>\n",
              "      <td>-4.88%</td>\n",
              "    </tr>\n",
              "    <tr>\n",
              "      <th>1</th>\n",
              "      <td>Aug 01, 2020</td>\n",
              "      <td>387.14</td>\n",
              "      <td>346.48</td>\n",
              "      <td>392.37</td>\n",
              "      <td>343.33</td>\n",
              "      <td>11.03M</td>\n",
              "      <td>11.73%</td>\n",
              "    </tr>\n",
              "    <tr>\n",
              "      <th>2</th>\n",
              "      <td>Jul 31, 2020</td>\n",
              "      <td>346.51</td>\n",
              "      <td>334.84</td>\n",
              "      <td>349.34</td>\n",
              "      <td>329.02</td>\n",
              "      <td>8.69M</td>\n",
              "      <td>3.48%</td>\n",
              "    </tr>\n",
              "    <tr>\n",
              "      <th>3</th>\n",
              "      <td>Jul 30, 2020</td>\n",
              "      <td>334.87</td>\n",
              "      <td>317.79</td>\n",
              "      <td>341.11</td>\n",
              "      <td>314.83</td>\n",
              "      <td>9.07M</td>\n",
              "      <td>5.36%</td>\n",
              "    </tr>\n",
              "    <tr>\n",
              "      <th>4</th>\n",
              "      <td>Jul 29, 2020</td>\n",
              "      <td>317.82</td>\n",
              "      <td>316.95</td>\n",
              "      <td>324.93</td>\n",
              "      <td>312.64</td>\n",
              "      <td>8.72M</td>\n",
              "      <td>0.27%</td>\n",
              "    </tr>\n",
              "  </tbody>\n",
              "</table>\n",
              "</div>\n",
              "      <button class=\"colab-df-convert\" onclick=\"convertToInteractive('df-ddc310a3-44b0-420f-9dc7-6c784a0be4df')\"\n",
              "              title=\"Convert this dataframe to an interactive table.\"\n",
              "              style=\"display:none;\">\n",
              "        \n",
              "  <svg xmlns=\"http://www.w3.org/2000/svg\" height=\"24px\"viewBox=\"0 0 24 24\"\n",
              "       width=\"24px\">\n",
              "    <path d=\"M0 0h24v24H0V0z\" fill=\"none\"/>\n",
              "    <path d=\"M18.56 5.44l.94 2.06.94-2.06 2.06-.94-2.06-.94-.94-2.06-.94 2.06-2.06.94zm-11 1L8.5 8.5l.94-2.06 2.06-.94-2.06-.94L8.5 2.5l-.94 2.06-2.06.94zm10 10l.94 2.06.94-2.06 2.06-.94-2.06-.94-.94-2.06-.94 2.06-2.06.94z\"/><path d=\"M17.41 7.96l-1.37-1.37c-.4-.4-.92-.59-1.43-.59-.52 0-1.04.2-1.43.59L10.3 9.45l-7.72 7.72c-.78.78-.78 2.05 0 2.83L4 21.41c.39.39.9.59 1.41.59.51 0 1.02-.2 1.41-.59l7.78-7.78 2.81-2.81c.8-.78.8-2.07 0-2.86zM5.41 20L4 18.59l7.72-7.72 1.47 1.35L5.41 20z\"/>\n",
              "  </svg>\n",
              "      </button>\n",
              "      \n",
              "  <style>\n",
              "    .colab-df-container {\n",
              "      display:flex;\n",
              "      flex-wrap:wrap;\n",
              "      gap: 12px;\n",
              "    }\n",
              "\n",
              "    .colab-df-convert {\n",
              "      background-color: #E8F0FE;\n",
              "      border: none;\n",
              "      border-radius: 50%;\n",
              "      cursor: pointer;\n",
              "      display: none;\n",
              "      fill: #1967D2;\n",
              "      height: 32px;\n",
              "      padding: 0 0 0 0;\n",
              "      width: 32px;\n",
              "    }\n",
              "\n",
              "    .colab-df-convert:hover {\n",
              "      background-color: #E2EBFA;\n",
              "      box-shadow: 0px 1px 2px rgba(60, 64, 67, 0.3), 0px 1px 3px 1px rgba(60, 64, 67, 0.15);\n",
              "      fill: #174EA6;\n",
              "    }\n",
              "\n",
              "    [theme=dark] .colab-df-convert {\n",
              "      background-color: #3B4455;\n",
              "      fill: #D2E3FC;\n",
              "    }\n",
              "\n",
              "    [theme=dark] .colab-df-convert:hover {\n",
              "      background-color: #434B5C;\n",
              "      box-shadow: 0px 1px 3px 1px rgba(0, 0, 0, 0.15);\n",
              "      filter: drop-shadow(0px 1px 2px rgba(0, 0, 0, 0.3));\n",
              "      fill: #FFFFFF;\n",
              "    }\n",
              "  </style>\n",
              "\n",
              "      <script>\n",
              "        const buttonEl =\n",
              "          document.querySelector('#df-ddc310a3-44b0-420f-9dc7-6c784a0be4df button.colab-df-convert');\n",
              "        buttonEl.style.display =\n",
              "          google.colab.kernel.accessAllowed ? 'block' : 'none';\n",
              "\n",
              "        async function convertToInteractive(key) {\n",
              "          const element = document.querySelector('#df-ddc310a3-44b0-420f-9dc7-6c784a0be4df');\n",
              "          const dataTable =\n",
              "            await google.colab.kernel.invokeFunction('convertToInteractive',\n",
              "                                                     [key], {});\n",
              "          if (!dataTable) return;\n",
              "\n",
              "          const docLinkHtml = 'Like what you see? Visit the ' +\n",
              "            '<a target=\"_blank\" href=https://colab.research.google.com/notebooks/data_table.ipynb>data table notebook</a>'\n",
              "            + ' to learn more about interactive tables.';\n",
              "          element.innerHTML = '';\n",
              "          dataTable['output_type'] = 'display_data';\n",
              "          await google.colab.output.renderOutput(dataTable, element);\n",
              "          const docLink = document.createElement('div');\n",
              "          docLink.innerHTML = docLinkHtml;\n",
              "          element.appendChild(docLink);\n",
              "        }\n",
              "      </script>\n",
              "    </div>\n",
              "  </div>\n",
              "  "
            ]
          },
          "metadata": {},
          "execution_count": 2
        }
      ]
    },
    {
      "cell_type": "markdown",
      "source": [
        "Data preprocessing and feature selection"
      ],
      "metadata": {
        "id": "1bqqBegyDtW_"
      }
    },
    {
      "cell_type": "code",
      "source": [
        "# Convert the 'Date' column to datetime format\n",
        "df['Date'] = pd.to_datetime(df['Date'])\n",
        "\n",
        "# Extract additional features from the 'Date' column\n",
        "df['Year'] = df['Date'].dt.year\n",
        "df['Month'] = df['Date'].dt.month\n",
        "df['Day'] = df['Date'].dt.day\n",
        "\n",
        "# Select the relevant features for analysis\n",
        "selected_features = ['Year', 'Month', 'Day', 'Open', 'High', 'Low']\n",
        "df_selected = df[selected_features].copy()\n",
        "\n",
        "# Preprocess the target variable\n",
        "df_selected['Price'] = df['Price'].str.replace(',', '').astype(float)\n",
        "\n",
        "# Display the updated DataFrame\n",
        "df_selected.head()"
      ],
      "metadata": {
        "colab": {
          "base_uri": "https://localhost:8080/",
          "height": 206
        },
        "id": "s_-TOxSxDwB4",
        "outputId": "5fea7df3-2157-4a99-9461-36919fc3bac8"
      },
      "execution_count": null,
      "outputs": [
        {
          "output_type": "execute_result",
          "data": {
            "text/plain": [
              "   Year  Month  Day    Open    High     Low   Price\n",
              "0  2020      8    2  387.15  415.08  335.76  368.23\n",
              "1  2020      8    1  346.48  392.37  343.33  387.14\n",
              "2  2020      7   31  334.84  349.34  329.02  346.51\n",
              "3  2020      7   30  317.79  341.11  314.83  334.87\n",
              "4  2020      7   29  316.95  324.93  312.64  317.82"
            ],
            "text/html": [
              "\n",
              "  <div id=\"df-c63652ac-853b-4d67-bd60-5826062baa07\">\n",
              "    <div class=\"colab-df-container\">\n",
              "      <div>\n",
              "<style scoped>\n",
              "    .dataframe tbody tr th:only-of-type {\n",
              "        vertical-align: middle;\n",
              "    }\n",
              "\n",
              "    .dataframe tbody tr th {\n",
              "        vertical-align: top;\n",
              "    }\n",
              "\n",
              "    .dataframe thead th {\n",
              "        text-align: right;\n",
              "    }\n",
              "</style>\n",
              "<table border=\"1\" class=\"dataframe\">\n",
              "  <thead>\n",
              "    <tr style=\"text-align: right;\">\n",
              "      <th></th>\n",
              "      <th>Year</th>\n",
              "      <th>Month</th>\n",
              "      <th>Day</th>\n",
              "      <th>Open</th>\n",
              "      <th>High</th>\n",
              "      <th>Low</th>\n",
              "      <th>Price</th>\n",
              "    </tr>\n",
              "  </thead>\n",
              "  <tbody>\n",
              "    <tr>\n",
              "      <th>0</th>\n",
              "      <td>2020</td>\n",
              "      <td>8</td>\n",
              "      <td>2</td>\n",
              "      <td>387.15</td>\n",
              "      <td>415.08</td>\n",
              "      <td>335.76</td>\n",
              "      <td>368.23</td>\n",
              "    </tr>\n",
              "    <tr>\n",
              "      <th>1</th>\n",
              "      <td>2020</td>\n",
              "      <td>8</td>\n",
              "      <td>1</td>\n",
              "      <td>346.48</td>\n",
              "      <td>392.37</td>\n",
              "      <td>343.33</td>\n",
              "      <td>387.14</td>\n",
              "    </tr>\n",
              "    <tr>\n",
              "      <th>2</th>\n",
              "      <td>2020</td>\n",
              "      <td>7</td>\n",
              "      <td>31</td>\n",
              "      <td>334.84</td>\n",
              "      <td>349.34</td>\n",
              "      <td>329.02</td>\n",
              "      <td>346.51</td>\n",
              "    </tr>\n",
              "    <tr>\n",
              "      <th>3</th>\n",
              "      <td>2020</td>\n",
              "      <td>7</td>\n",
              "      <td>30</td>\n",
              "      <td>317.79</td>\n",
              "      <td>341.11</td>\n",
              "      <td>314.83</td>\n",
              "      <td>334.87</td>\n",
              "    </tr>\n",
              "    <tr>\n",
              "      <th>4</th>\n",
              "      <td>2020</td>\n",
              "      <td>7</td>\n",
              "      <td>29</td>\n",
              "      <td>316.95</td>\n",
              "      <td>324.93</td>\n",
              "      <td>312.64</td>\n",
              "      <td>317.82</td>\n",
              "    </tr>\n",
              "  </tbody>\n",
              "</table>\n",
              "</div>\n",
              "      <button class=\"colab-df-convert\" onclick=\"convertToInteractive('df-c63652ac-853b-4d67-bd60-5826062baa07')\"\n",
              "              title=\"Convert this dataframe to an interactive table.\"\n",
              "              style=\"display:none;\">\n",
              "        \n",
              "  <svg xmlns=\"http://www.w3.org/2000/svg\" height=\"24px\"viewBox=\"0 0 24 24\"\n",
              "       width=\"24px\">\n",
              "    <path d=\"M0 0h24v24H0V0z\" fill=\"none\"/>\n",
              "    <path d=\"M18.56 5.44l.94 2.06.94-2.06 2.06-.94-2.06-.94-.94-2.06-.94 2.06-2.06.94zm-11 1L8.5 8.5l.94-2.06 2.06-.94-2.06-.94L8.5 2.5l-.94 2.06-2.06.94zm10 10l.94 2.06.94-2.06 2.06-.94-2.06-.94-.94-2.06-.94 2.06-2.06.94z\"/><path d=\"M17.41 7.96l-1.37-1.37c-.4-.4-.92-.59-1.43-.59-.52 0-1.04.2-1.43.59L10.3 9.45l-7.72 7.72c-.78.78-.78 2.05 0 2.83L4 21.41c.39.39.9.59 1.41.59.51 0 1.02-.2 1.41-.59l7.78-7.78 2.81-2.81c.8-.78.8-2.07 0-2.86zM5.41 20L4 18.59l7.72-7.72 1.47 1.35L5.41 20z\"/>\n",
              "  </svg>\n",
              "      </button>\n",
              "      \n",
              "  <style>\n",
              "    .colab-df-container {\n",
              "      display:flex;\n",
              "      flex-wrap:wrap;\n",
              "      gap: 12px;\n",
              "    }\n",
              "\n",
              "    .colab-df-convert {\n",
              "      background-color: #E8F0FE;\n",
              "      border: none;\n",
              "      border-radius: 50%;\n",
              "      cursor: pointer;\n",
              "      display: none;\n",
              "      fill: #1967D2;\n",
              "      height: 32px;\n",
              "      padding: 0 0 0 0;\n",
              "      width: 32px;\n",
              "    }\n",
              "\n",
              "    .colab-df-convert:hover {\n",
              "      background-color: #E2EBFA;\n",
              "      box-shadow: 0px 1px 2px rgba(60, 64, 67, 0.3), 0px 1px 3px 1px rgba(60, 64, 67, 0.15);\n",
              "      fill: #174EA6;\n",
              "    }\n",
              "\n",
              "    [theme=dark] .colab-df-convert {\n",
              "      background-color: #3B4455;\n",
              "      fill: #D2E3FC;\n",
              "    }\n",
              "\n",
              "    [theme=dark] .colab-df-convert:hover {\n",
              "      background-color: #434B5C;\n",
              "      box-shadow: 0px 1px 3px 1px rgba(0, 0, 0, 0.15);\n",
              "      filter: drop-shadow(0px 1px 2px rgba(0, 0, 0, 0.3));\n",
              "      fill: #FFFFFF;\n",
              "    }\n",
              "  </style>\n",
              "\n",
              "      <script>\n",
              "        const buttonEl =\n",
              "          document.querySelector('#df-c63652ac-853b-4d67-bd60-5826062baa07 button.colab-df-convert');\n",
              "        buttonEl.style.display =\n",
              "          google.colab.kernel.accessAllowed ? 'block' : 'none';\n",
              "\n",
              "        async function convertToInteractive(key) {\n",
              "          const element = document.querySelector('#df-c63652ac-853b-4d67-bd60-5826062baa07');\n",
              "          const dataTable =\n",
              "            await google.colab.kernel.invokeFunction('convertToInteractive',\n",
              "                                                     [key], {});\n",
              "          if (!dataTable) return;\n",
              "\n",
              "          const docLinkHtml = 'Like what you see? Visit the ' +\n",
              "            '<a target=\"_blank\" href=https://colab.research.google.com/notebooks/data_table.ipynb>data table notebook</a>'\n",
              "            + ' to learn more about interactive tables.';\n",
              "          element.innerHTML = '';\n",
              "          dataTable['output_type'] = 'display_data';\n",
              "          await google.colab.output.renderOutput(dataTable, element);\n",
              "          const docLink = document.createElement('div');\n",
              "          docLink.innerHTML = docLinkHtml;\n",
              "          element.appendChild(docLink);\n",
              "        }\n",
              "      </script>\n",
              "    </div>\n",
              "  </div>\n",
              "  "
            ]
          },
          "metadata": {},
          "execution_count": 3
        }
      ]
    },
    {
      "cell_type": "markdown",
      "source": [
        "Exploratory data analysis and visualization"
      ],
      "metadata": {
        "id": "4Pf776jaEFO5"
      }
    },
    {
      "cell_type": "code",
      "source": [
        "# Generate descriptive statistics\n",
        "df_selected.describe()\n",
        "\n",
        "# Visualize the distribution of the target variable\n",
        "sns.histplot(df_selected['Price'], kde=True)\n",
        "plt.title('Distribution of Ethereum Price')\n",
        "plt.xlabel('Price')\n",
        "plt.ylabel('Frequency')\n",
        "plt.show()\n",
        "\n",
        "# Create a correlation matrix\n",
        "corr_matrix = df_selected.corr()\n",
        "\n",
        "# Visualize the correlation matrix as a heatmap\n",
        "sns.heatmap(corr_matrix, annot=True, cmap='coolwarm')\n",
        "plt.title('Correlation Matrix')\n",
        "plt.show()\n"
      ],
      "metadata": {
        "colab": {
          "base_uri": "https://localhost:8080/",
          "height": 962
        },
        "id": "4dABbN6cD-w2",
        "outputId": "3f81b9ce-d9a8-4c70-d27a-ff202df26068"
      },
      "execution_count": null,
      "outputs": [
        {
          "output_type": "display_data",
          "data": {
            "text/plain": [
              "<Figure size 640x480 with 1 Axes>"
            ],
            "image/png": "[encoded data removed]"
          },
          "metadata": {}
        },
        {
          "output_type": "stream",
          "name": "stderr",
          "text": [
            "<ipython-input-4-2488f5fb67ad>:12: FutureWarning: The default value of numeric_only in DataFrame.corr is deprecated. In a future version, it will default to False. Select only valid columns or specify the value of numeric_only to silence this warning.\n",
            "  corr_matrix = df_selected.corr()\n"
          ]
        },
        {
          "output_type": "display_data",
          "data": {
            "text/plain": [
              "<Figure size 640x480 with 2 Axes>"
            ],
            "image/png": "[encoded data removed]"
          },
          "metadata": {}
        }
      ]
    },
    {
      "cell_type": "code",
      "source": [
        "print(df_selected.columns)\n"
      ],
      "metadata": {
        "colab": {
          "base_uri": "https://localhost:8080/"
        },
        "id": "wqAEPU_SE2bi",
        "outputId": "907e4952-b4a7-4c8a-f1e4-99517bd5965e"
      },
      "execution_count": null,
      "outputs": [
        {
          "output_type": "stream",
          "name": "stdout",
          "text": [
            "Index(['Year', 'Month', 'Day', 'Open', 'High', 'Low', 'Price'], dtype='object')\n"
          ]
        }
      ]
    },
    {
      "cell_type": "markdown",
      "source": [
        "Building a predictive model (Linear Regression)"
      ],
      "metadata": {
        "id": "GtRh6s2nERFg"
      }
    },
    {
      "cell_type": "code",
      "source": [
        "# Convert columns to numeric type\n",
        "df_selected['Open'] = df_selected['Open'].str.replace(',', '').astype(float)\n",
        "df_selected['High'] = df_selected['High'].str.replace(',', '').astype(float)\n",
        "df_selected['Low'] = df_selected['Low'].str.replace(',', '').astype(float)\n",
        "\n",
        "# Split the data into features and target variable\n",
        "X = df_selected[['Year', 'Month', 'Day', 'Open', 'High', 'Low']].values\n",
        "y = df_selected['Price'].values\n",
        "\n",
        "# Split the data into training and testing sets\n",
        "X_train, X_test, y_train, y_test = train_test_split(X, y, test_size=0.2, random_state=42)\n",
        "\n",
        "# Create and train the linear regression model\n",
        "model = LinearRegression()\n",
        "model.fit(X_train, y_train)\n",
        "\n",
        "# Make predictions on the test set\n",
        "y_pred = model.predict(X_test)\n",
        "\n",
        "# Evaluate the model's performance\n",
        "mse = np.mean((y_pred - y_test) ** 2)\n",
        "rmse = np.sqrt(mse)\n",
        "r2 = model.score(X_test, y_test)\n",
        "\n",
        "# Print the evaluation metrics\n",
        "print('Mean Squared Error:', mse)\n",
        "print('Root Mean Squared Error:', rmse)\n",
        "print('R-squared:', r2)\n"
      ],
      "metadata": {
        "colab": {
          "base_uri": "https://localhost:8080/"
        },
        "id": "wDn4zXP_YjoE",
        "outputId": "143dd4c9-d726-4ce7-a6e8-df067cc5442f"
      },
      "execution_count": null,
      "outputs": [
        {
          "output_type": "stream",
          "name": "stdout",
          "text": [
            "Mean Squared Error: 44.402674083665055\n",
            "Root Mean Squared Error: 6.663533153190209\n",
            "R-squared: 0.9989071585815948\n"
          ]
        }
      ]
    },
    {
      "cell_type": "markdown",
      "source": [
        "The model seems to perform well with a low mean squared error (MSE), root mean squared error (RMSE), and a high R-squared value. This indicates that the model is able to explain a significant portion of the variance in the test data.\n",
        "\n",
        "The MSE of 44.40 suggests that, on average, the squared difference between the predicted and actual prices is 44.40. The RMSE of 6.66 indicates that, on average, the model's predictions have a deviation of approximately 6.66 from the actual prices.\n",
        "\n",
        "The R-squared value of 0.9989 indicates that around 99.89% of the variance in the test data can be explained by the linear regression model. This suggests that the model fits the data very well."
      ],
      "metadata": {
        "id": "X04-GCSKY1RV"
      }
    },
    {
      "cell_type": "markdown",
      "source": [
        " Gradient Boosting Regression"
      ],
      "metadata": {
        "id": "4CDykid3xvAb"
      }
    },
    {
      "cell_type": "code",
      "source": [
        "# Split the data into features and target variable\n",
        "X = df_selected[['Year', 'Month', 'Day', 'Open', 'High', 'Low']]\n",
        "y = df_selected['Price']\n",
        "\n",
        "# Split the data into training and testing sets\n",
        "X_train, X_test, y_train, y_test = train_test_split(X, y, test_size=0.2, random_state=42)\n",
        "\n",
        "# Create the Gradient Boosting Regression model\n",
        "model = GradientBoostingRegressor()\n",
        "\n",
        "# Fit the model to the training data\n",
        "model.fit(X_train, y_train)\n",
        "\n",
        "# Make predictions on the testing data\n",
        "y_pred = model.predict(X_test)\n",
        "\n",
        "# Calculate evaluation metrics\n",
        "mse = mean_squared_error(y_test, y_pred)\n",
        "rmse = np.sqrt(mse)\n",
        "mae = np.mean(np.abs(y_test - y_pred))\n",
        "r2 = r2_score(y_test, y_pred)\n",
        "\n",
        "# Print the evaluation metrics\n",
        "print(\"Mean Squared Error:\", mse)\n",
        "print(\"Root Mean Squared Error:\", rmse)\n",
        "print(\"Mean Absolute Error:\", mae)\n",
        "print(\"R-squared:\", r2)"
      ],
      "metadata": {
        "colab": {
          "base_uri": "https://localhost:8080/"
        },
        "id": "BV1ntiwizgU3",
        "outputId": "80b600ac-acd4-45b3-ca50-8baa4b90a549"
      },
      "execution_count": null,
      "outputs": [
        {
          "output_type": "stream",
          "name": "stdout",
          "text": [
            "Mean Squared Error: 79.79170170516349\n",
            "Root Mean Squared Error: 8.93262009184111\n",
            "Mean Absolute Error: 4.715479763504807\n",
            "R-squared: 0.9980361615990936\n"
          ]
        }
      ]
    },
    {
      "cell_type": "markdown",
      "source": [
        "The low values of MSE, RMSE, and MAE indicate that the model has good predictive performance. Additionally, the high R-squared value of 0.9980168955769715 suggests that the model explains a significant portion of the variance in the target variable.\n",
        "\n",
        "Overall, these results indicate that the Gradient Boosting Regression model is a good fit for the dataset and can make accurate predictions of the target variable."
      ],
      "metadata": {
        "id": "psvFTzCxz76Y"
      }
    }
  ]
}